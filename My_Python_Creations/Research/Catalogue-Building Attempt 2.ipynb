{
 "cells": [
  {
   "cell_type": "code",
   "execution_count": 70,
   "metadata": {},
   "outputs": [],
   "source": [
    "from __future__ import print_function\n",
    "import numpy as np\n",
    "import matplotlib.pyplot as plt\n",
    "import seaborn as sns\n",
    "\n",
    "from astropy import units as u\n",
    "from astropy.coordinates import SkyCoord\n",
    "\n",
    "#comment out the next two lines if you do not have astroquery installed\n",
    "#from astroquery.sdss import SDSS\n",
    "#from astroquery.vizier import Vizier\n",
    "\n",
    "from astropy.table import Table, Column, join\n",
    "import pandas as pd"
   ]
  },
  {
   "cell_type": "code",
   "execution_count": 71,
   "metadata": {},
   "outputs": [],
   "source": [
    "GOODS_TRANSLATE = Table.read('GOODSN_plus_translation_all.txt', format='ascii')\n",
    "TransPD = GOODS_TRANSLATE.to_pandas()\n",
    "Translate = TransPD.set_index('Steves_ID')\n",
    "\n",
    "CGN7_LINES = Table.read('CGN7_lines.txt', format='ascii')\n",
    "CGN7PD = CGN7_LINES.to_pandas()\n",
    "CGN7 = CGN7PD.set_index('IND') #In Pandas, any column set as an index will not show up when we request 'columns'; \n",
    "#because I want to later manipulate the 'ID' column, I need to make sure it indexes by something I don't care about\n",
    "\n",
    "GOODS_CAT_AT = Table.read('3DHST_GOODS.cat', format='ascii')\n",
    "GOODS_CAT_from_at = GOODS_CAT_AT.to_pandas()\n",
    "GOODS_CAT_from_at.columns = ['3DHST ID','RA','DEC', 'Best Redshift','Redshift Type (1=spec,2=grism,3=phot)',\n",
    "                  'Flux F606W (nJy)', 'Flux Error F606W (nJy)', 'Flux F814W (nJy)', 'Flux Error F814W (nJy)', \n",
    "                  'Flux F125W (nJy)', 'Flux Error F125W (nJy)', 'Flux F140W (nJy)', 'Flux Error F140W (nJy)', \n",
    "                  'Flux F160W (nJy)', 'Flux Error F160W (nJy)'] #needed to rename these columns\n",
    "Catalogue = GOODS_CAT_from_at.set_index('3DHST ID')"
   ]
  },
  {
   "cell_type": "code",
   "execution_count": 72,
   "metadata": {},
   "outputs": [],
   "source": [
    "CGN7new = CGN7[\"POSANG\"].str.split(\"_\", n = 2, expand = True) \n",
    "  \n",
    "# making separate first name column from new data frame \n",
    "CGN7[\"Survey\"]= CGN7new[0] \n",
    "  \n",
    "# making separate last name column from new data frame \n",
    "CGN7[\"ID\"]= CGN7new[1] \n",
    "\n",
    "CGN7[\"Angle\"]= CGN7new[2] \n",
    "  \n",
    "# Dropping old Name columns \n",
    "CGN7.drop(columns =[\"Survey\", \"Angle\", \"POSANG\"], inplace = True) \n",
    "  \n",
    "# df display\n",
    "CGN7New = CGN7.set_index('SNR') #I am only setting this index because I don't want Python to us 'ID' as the index"
   ]
  },
  {
   "cell_type": "code",
   "execution_count": 73,
   "metadata": {},
   "outputs": [
    {
     "data": {
      "text/plain": [
       "numpy.int64"
      ]
     },
     "execution_count": 73,
     "metadata": {},
     "output_type": "execute_result"
    }
   ],
   "source": [
    "CGN7New['ID'] = TransPD['ID'].astype(int)\n",
    "type(TransPD['ID'].iloc[0])"
   ]
  },
  {
   "cell_type": "code",
   "execution_count": 80,
   "metadata": {},
   "outputs": [],
   "source": [
    "Merged = pd.merge(CGN7New, Translate, left_on='ID', right_on='ID')"
   ]
  },
  {
   "cell_type": "code",
   "execution_count": 81,
   "metadata": {},
   "outputs": [
    {
     "data": {
      "text/html": [
       "<div>\n",
       "<style scoped>\n",
       "    .dataframe tbody tr th:only-of-type {\n",
       "        vertical-align: middle;\n",
       "    }\n",
       "\n",
       "    .dataframe tbody tr th {\n",
       "        vertical-align: top;\n",
       "    }\n",
       "\n",
       "    .dataframe thead th {\n",
       "        text-align: right;\n",
       "    }\n",
       "</style>\n",
       "<table border=\"1\" class=\"dataframe\">\n",
       "  <thead>\n",
       "    <tr style=\"text-align: right;\">\n",
       "      <th></th>\n",
       "      <th>WAVELENGTH</th>\n",
       "      <th>dWAVELENGTH</th>\n",
       "      <th>FLUX</th>\n",
       "      <th>dFLUX</th>\n",
       "      <th>FWHM</th>\n",
       "      <th>dFWHM</th>\n",
       "      <th>CONT</th>\n",
       "      <th>dCONT</th>\n",
       "      <th>CHISQ</th>\n",
       "      <th>ID</th>\n",
       "      <th>ra</th>\n",
       "      <th>dec</th>\n",
       "      <th>x</th>\n",
       "      <th>y</th>\n",
       "    </tr>\n",
       "  </thead>\n",
       "  <tbody>\n",
       "    <tr>\n",
       "      <th>0</th>\n",
       "      <td>9024.12</td>\n",
       "      <td>4.2</td>\n",
       "      <td>1.565310e-17</td>\n",
       "      <td>3.912850e-18</td>\n",
       "      <td>29.539</td>\n",
       "      <td>4.635</td>\n",
       "      <td>-1.844550e-21</td>\n",
       "      <td>1.675410e-20</td>\n",
       "      <td>0.144</td>\n",
       "      <td>3777.0</td>\n",
       "      <td>189.297333</td>\n",
       "      <td>62.154039</td>\n",
       "      <td>8414.783</td>\n",
       "      <td>5169.538</td>\n",
       "    </tr>\n",
       "  </tbody>\n",
       "</table>\n",
       "</div>"
      ],
      "text/plain": [
       "   WAVELENGTH  dWAVELENGTH          FLUX         dFLUX    FWHM  dFWHM  \\\n",
       "0     9024.12          4.2  1.565310e-17  3.912850e-18  29.539  4.635   \n",
       "\n",
       "           CONT         dCONT  CHISQ      ID          ra        dec         x  \\\n",
       "0 -1.844550e-21  1.675410e-20  0.144  3777.0  189.297333  62.154039  8414.783   \n",
       "\n",
       "          y  \n",
       "0  5169.538  "
      ]
     },
     "execution_count": 81,
     "metadata": {},
     "output_type": "execute_result"
    }
   ],
   "source": [
    "Merged"
   ]
  },
  {
   "cell_type": "code",
   "execution_count": null,
   "metadata": {},
   "outputs": [],
   "source": []
  }
 ],
 "metadata": {
  "kernelspec": {
   "display_name": "Python 3",
   "language": "python",
   "name": "python3"
  },
  "language_info": {
   "codemirror_mode": {
    "name": "ipython",
    "version": 3
   },
   "file_extension": ".py",
   "mimetype": "text/x-python",
   "name": "python",
   "nbconvert_exporter": "python",
   "pygments_lexer": "ipython3",
   "version": "3.6.5"
  }
 },
 "nbformat": 4,
 "nbformat_minor": 2
}
