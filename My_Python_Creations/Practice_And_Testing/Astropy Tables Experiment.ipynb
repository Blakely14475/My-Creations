{
 "cells": [
  {
   "cell_type": "code",
   "execution_count": null,
   "metadata": {},
   "outputs": [],
   "source": [
    "print('hello world') #This is my first line of original code, written 14:17 GMT Friday, 28Jun19"
   ]
  },
  {
   "cell_type": "code",
   "execution_count": 14,
   "metadata": {},
   "outputs": [],
   "source": [
    "from __future__ import print_function\n",
    "import numpy as np\n",
    "import matplotlib.pyplot as plt\n",
    "import seaborn as sns\n",
    "\n",
    "from astropy import units as u\n",
    "from astropy.coordinates import SkyCoord\n",
    "\n",
    "#comment out the next two lines if you do not have astroquery installed\n",
    "#from astroquery.sdss import SDSS\n",
    "#from astroquery.vizier import Vizier\n",
    "\n",
    "from astropy.table import Table, Column, join\n",
    "import pandas as pd"
   ]
  },
  {
   "cell_type": "code",
   "execution_count": 2,
   "metadata": {},
   "outputs": [],
   "source": [
    "t1 = Table.read('table1.dat', format='ascii')\n",
    "t2 = Table.read('table2.dat', format='ascii') #i didn't initially download these files which caused an error\n",
    "#make sure that you have a local copy of the files you want read-in. For good measure, put them in the same \n",
    "#folder as the jupyter notebook you are running"
   ]
  },
  {
   "cell_type": "code",
   "execution_count": 3,
   "metadata": {},
   "outputs": [
    {
     "name": "stdout",
     "output_type": "stream",
     "text": [
      " field  pointing objid         x                  y         \n",
      "------- -------- ----- ------------------ ------------------\n",
      " COSMOS        7     4  1452.005775381194   167.979514004694\n",
      " COSMOS        7     4  1452.897245829873  167.9823759816357\n",
      "    EGS       10     5  383.6709862254084  529.6622350311067\n",
      " COSMOS        9     8 1249.1498359476477 505.91444510147676\n",
      "    EGS        3     3  681.4060035394654 1453.1104492712175\n",
      "    EGS        2     2  211.7487956119928 1322.6799341887927\n",
      "GOODS-N        4     1  363.7944356566061  296.6928912295952\n",
      "GOODS-N        6     4 1736.6874404824487 1291.2303957635938\n",
      "GOODS-N        6     5 1465.5462752917028 1324.4540356491643\n",
      " COSMOS        4     2  750.4116781683119 217.45780896355794\n",
      "    ...      ...   ...                ...                ...\n",
      "    EGS        6     4 1303.4201052209453 1301.5555472541591\n",
      " COSMOS        8     6  17.72750870740003 1890.9326597579945\n",
      " COSMOS        9     9  417.5208173314784  186.1104824393749\n",
      "GOODS-S        5     3  638.3029554691373  1160.733828012476\n",
      "GOODS-N        9    10 491.62212819672766  932.6448821676859\n",
      "GOODS-S        1     1 1025.5803212795954  1648.014989913977\n",
      "    EGS       10     6 1544.2591101375021 1998.5434092385583\n",
      " COSMOS        8     7 1196.9814239760703  975.1419858235524\n",
      "GOODS-N        5     3  825.6943571742721 1617.0269380473999\n",
      "GOODS-N       10    11 1570.1251523897547 1007.0046910088768\n",
      "GOODS-N        6     7 162.62502887987785  697.6776153980593\n",
      "Length = 31 rows\n",
      " field  pointing objid          z          \n",
      "------- -------- ----- --------------------\n",
      "GOODS-N        6     6   0.9754458531443302\n",
      " COSMOS        8     5     3.91910618006773\n",
      " COSMOS        3     1    4.512660536441591\n",
      "GOODS-N        6     4    4.481685516998164\n",
      "GOODS-N        4     2                   --\n",
      "GOODS-N       10    11    2.624064810120213\n",
      "GOODS-N        6     5   1.0969759543334114\n",
      " COSMOS        8     6   0.7321414336399353\n",
      " COSMOS        7     4    2.347850808388833\n",
      "GOODS-S        5     2   3.7308502002252593\n",
      "    ...      ...   ...                  ...\n",
      "    EGS       10     6    1.879217105059187\n",
      "    EGS        3     3    3.115395690152406\n",
      " COSMOS        9     8    3.474192850363532\n",
      " COSMOS        9     9    5.489699024491776\n",
      "GOODS-N        9    10    4.098541180582777\n",
      "GOODS-S        7     4 0.009369523512939293\n",
      "GOODS-S        5     3   0.8628633807137168\n",
      "    EGS        6     4   0.3002666774707571\n",
      "    EGS        1     1    2.786025145483226\n",
      "    EGS       10     5   0.4315321637067595\n",
      "GOODS-N        5     3    2.365990732185595\n",
      "Length = 30 rows\n"
     ]
    }
   ],
   "source": [
    "print(t1)\n",
    "print(t2) #simply printing these tables also returns the length (number of rows)."
   ]
  },
  {
   "cell_type": "code",
   "execution_count": 4,
   "metadata": {},
   "outputs": [
    {
     "name": "stdout",
     "output_type": "stream",
     "text": [
      " field  pointing objid         x                  y         \n",
      "------- -------- ----- ------------------ ------------------\n",
      " COSMOS        7     4  1452.005775381194   167.979514004694\n",
      " COSMOS        7     4  1452.897245829873  167.9823759816357\n",
      "    EGS       10     5  383.6709862254084  529.6622350311067\n",
      " COSMOS        9     8 1249.1498359476477 505.91444510147676\n",
      "    EGS        3     3  681.4060035394654 1453.1104492712175\n",
      "    EGS        2     2  211.7487956119928 1322.6799341887927\n",
      "GOODS-N        4     1  363.7944356566061  296.6928912295952\n",
      "GOODS-N        6     4 1736.6874404824487 1291.2303957635938\n",
      "GOODS-N        6     5 1465.5462752917028 1324.4540356491643\n",
      " COSMOS        4     2  750.4116781683119 217.45780896355794\n",
      "    ...      ...   ...                ...                ...\n",
      "    EGS        6     4 1303.4201052209453 1301.5555472541591\n",
      " COSMOS        8     6  17.72750870740003 1890.9326597579945\n",
      " COSMOS        9     9  417.5208173314784  186.1104824393749\n",
      "GOODS-S        5     3  638.3029554691373  1160.733828012476\n",
      "GOODS-N        9    10 491.62212819672766  932.6448821676859\n",
      "GOODS-S        1     1 1025.5803212795954  1648.014989913977\n",
      "    EGS       10     6 1544.2591101375021 1998.5434092385583\n",
      " COSMOS        8     7 1196.9814239760703  975.1419858235524\n",
      "GOODS-N        5     3  825.6943571742721 1617.0269380473999\n",
      "GOODS-N       10    11 1570.1251523897547 1007.0046910088768\n",
      "GOODS-N        6     7 162.62502887987785  697.6776153980593\n",
      "Length = 31 rows\n",
      " field  pointing objid          z          \n",
      "------- -------- ----- --------------------\n",
      "GOODS-N        6     6   0.9754458531443302\n",
      " COSMOS        8     5     3.91910618006773\n",
      " COSMOS        3     1    4.512660536441591\n",
      "GOODS-N        6     4    4.481685516998164\n",
      "GOODS-N        4     2                   --\n",
      "GOODS-N       10    11    2.624064810120213\n",
      "GOODS-N        6     5   1.0969759543334114\n",
      " COSMOS        8     6   0.7321414336399353\n",
      " COSMOS        7     4    2.347850808388833\n",
      "GOODS-S        5     2   3.7308502002252593\n",
      "    ...      ...   ...                  ...\n",
      "    EGS       10     6    1.879217105059187\n",
      "    EGS        3     3    3.115395690152406\n",
      " COSMOS        9     8    3.474192850363532\n",
      " COSMOS        9     9    5.489699024491776\n",
      "GOODS-N        9    10    4.098541180582777\n",
      "GOODS-S        7     4 0.009369523512939293\n",
      "GOODS-S        5     3   0.8628633807137168\n",
      "    EGS        6     4   0.3002666774707571\n",
      "    EGS        1     1    2.786025145483226\n",
      "    EGS       10     5   0.4315321637067595\n",
      "GOODS-N        5     3    2.365990732185595\n",
      "Length = 30 rows\n"
     ]
    }
   ],
   "source": [
    "#let's try printing them in a different format\n",
    "t1.pprint()\n",
    "t2.pprint() #hmm...this seems to have done almost nothing"
   ]
  },
  {
   "cell_type": "code",
   "execution_count": 5,
   "metadata": {},
   "outputs": [
    {
     "name": "stdout",
     "output_type": "stream",
     "text": [
      "<TableColumns names=('field','pointing','objid','x','y')>\n"
     ]
    }
   ],
   "source": [
    "#let's print out the column headers for t1\n",
    "print(t1.columns)"
   ]
  },
  {
   "cell_type": "code",
   "execution_count": 6,
   "metadata": {},
   "outputs": [
    {
     "name": "stdout",
     "output_type": "stream",
     "text": [
      "field  pointing objid         x                y        \n",
      "------ -------- ----- ----------------- ----------------\n",
      "COSMOS        7     4 1452.005775381194 167.979514004694\n"
     ]
    }
   ],
   "source": [
    "#and now we print out the first row including the column labels\n",
    "print(t1[0])"
   ]
  },
  {
   "cell_type": "code",
   "execution_count": 7,
   "metadata": {},
   "outputs": [
    {
     "name": "stdout",
     "output_type": "stream",
     "text": [
      " field \n",
      "-------\n",
      " COSMOS\n",
      " COSMOS\n",
      "    EGS\n",
      " COSMOS\n",
      "    EGS\n",
      "    EGS\n",
      "GOODS-N\n",
      "GOODS-N\n",
      "GOODS-N\n",
      " COSMOS\n",
      "    ...\n",
      "    EGS\n",
      " COSMOS\n",
      " COSMOS\n",
      "GOODS-S\n",
      "GOODS-N\n",
      "GOODS-S\n",
      "    EGS\n",
      " COSMOS\n",
      "GOODS-N\n",
      "GOODS-N\n",
      "GOODS-N\n",
      "Length = 31 rows\n"
     ]
    }
   ],
   "source": [
    "#we can print every row from a single column\n",
    "print(t1['field'])"
   ]
  },
  {
   "cell_type": "code",
   "execution_count": 8,
   "metadata": {},
   "outputs": [],
   "source": [
    "#Now I will begin playing with Pandas\n",
    "#To create a new translation file I need to first convertfrom these Tables to Pandas\n",
    "t1pd = t1.to_pandas()\n",
    "t2pd = t2.to_pandas()\n",
    "#that seems to have worked"
   ]
  },
  {
   "cell_type": "code",
   "execution_count": 9,
   "metadata": {},
   "outputs": [
    {
     "name": "stdout",
     "output_type": "stream",
     "text": [
      "    field  pointing  objid            x            y\n",
      "0  COSMOS         7      4  1452.005775   167.979514\n",
      "1  COSMOS         7      4  1452.897246   167.982376\n",
      "2     EGS        10      5   383.670986   529.662235\n",
      "3  COSMOS         9      8  1249.149836   505.914445\n",
      "4     EGS         3      3   681.406004  1453.110449\n",
      "31 \n",
      "\n",
      "field  pointing objid         x                  y         \n",
      "------ -------- ----- ------------------ ------------------\n",
      "COSMOS        7     4  1452.005775381194   167.979514004694\n",
      "COSMOS        7     4  1452.897245829873  167.9823759816357\n",
      "   EGS       10     5  383.6709862254084  529.6622350311067\n",
      "COSMOS        9     8 1249.1498359476477 505.91444510147676\n",
      "   EGS        3     3  681.4060035394654 1453.1104492712175\n"
     ]
    }
   ],
   "source": [
    "#let's explore the tables in Pandas\n",
    "print(t1pd.head())\n",
    "length = len(t1pd)  \n",
    "print(length, '\\n') #and dont forget that we can assign the number of rows to a variable and do arithmetic with it\n",
    "#the '\\n' tells python to build in a line break\n",
    "print(t1[:5])\n",
    "#here we can tell that the pandas dataframe is much nicer to look at than the table"
   ]
  },
  {
   "cell_type": "code",
   "execution_count": 42,
   "metadata": {},
   "outputs": [],
   "source": [
    "#what i think i want to do is to create a translate file. to do that, i'll append the z column of Table2 onto Table1, \n",
    "#saving the new table as \"Translation\"\n",
    "#we have Table1 & Table2 as Pandas files, which means they have a unique index in those. Can I ask Python to combine\n",
    "#these two tables based on multiple matches within an element?\n",
    "\n",
    "#galaxyid1 = t1pd.loc[:10,['field','pointing','objid']] #select these three columns, and these 10 rows within those columns. \n",
    "#we could assign this a variable\n",
    "\n",
    "\n",
    "#now i want to ask it to merge Table1 & Table2 where field, pointing, and objid match, assigning a new variable to that\n",
    "\n",
    "#t1pd.rename(columns={'objid':'Table1_id'}, inplace=True)\n",
    "#t2pd.rename(columns={'objid':'Table2_id'}, inplace=True) #we want to merge these but preserve their id's in each \n",
    "#table. in this case their object id is identical, but it may not be in future\n",
    "Translate = pd.merge(t1pd, t2pd, how='outer', on=['objid', 'field', 'pointing'])\n",
    "Translate #i...think i did it?\n",
    "Translate.to_csv('Translate.txt', sep='\\t', index=False) #this converts my newly created DataFrame to a\n",
    "#.txt file with some specific parameters; sep is short for the separation of the columns, index removes an automatically\n",
    "#generated zero-index, and header names the line to be used as the header. unfortunately this seems to be removing\n",
    "#the column titles from the csv...i can't seem to get it to line up the header columns with the rest. i think this\n",
    "#may just not be possible to display in the .txt, but it should be fine when it is read back into pandas\n",
    "\n",
    "\n",
    "#note that we could specify where this is going\n",
    "#export_csv = Translate.to_csv (r'C:\\Users\\Ron\\Desktop\\export_dataframe.csv', index = None, header=True) \n",
    "\n",
    "\n",
    "\n",
    "\n",
    "\n",
    "#i now have a translate file. now i can write code to search for information from Table1 in the translate file, find \n",
    "#it, look for corresponding information in Table2, and merge them into one\n",
    "\n",
    "#pandas can handle empty entries, but we should assign NaN to some value that is easy to account for and cut out if/when\n",
    "#we do arithmetic/operations on these entries at a later point\n",
    "\n",
    "#On Monday I'll need to experiment with combining rows with matching entries into long columns, and asymmetrical \n",
    "#dataframes that may have multiple NaN entries"
   ]
  },
  {
   "cell_type": "markdown",
   "metadata": {},
   "source": [
    "#### Here's what I think the next step is\n",
    "\n",
    "* Select Table1 row-x column a, b, and c entries\n",
    "* find the element that matches those in Translate row-y column d\n",
    "* search for a match to that in Table2 row-z column e\n",
    "* Combine Table1 row-x column a, b, and c with Table2 row-z column e\n",
    "* Save this new DataFrame and/or Table"
   ]
  },
  {
   "cell_type": "code",
   "execution_count": 11,
   "metadata": {},
   "outputs": [],
   "source": [
    "#galaxyid0 = t1pd.loc[0] #i've assigned a variable to this specific entry. now i want to find any entry in Translate\n",
    "#that matches this. note that in this version of python, both .iloc and .loc work, but have slightly different\n",
    "#purposes. loc helps to slice from a label, whereas iloc slices from an integer\n",
    "#print(type(galaxyid0)) #it's a series, which means that .isin won't work since that is based on index match\n",
    "#print(galaxyid0)"
   ]
  },
  {
   "cell_type": "code",
   "execution_count": 12,
   "metadata": {},
   "outputs": [],
   "source": [
    "#global0 = Translate[(t1pd.field =='COSMOS') & (t1pd.pointing == 7) & (t1pd.objid == 4)]\n",
    "#print(global0)\n",
    "\n",
    "#january_february_march = df[df.month.isin(['January', 'February', 'March'])] #this type of search would allow me to \n",
    "#get very specific about parameters. remember it goes Translate[t1pd.column.isin(['str or int', 'str or int'])]\n",
    "\n",
    "\n",
    "#match0 = t2pd[(Translate.field == 'COSMOS') & (Translate.pointing == 7) & (Translate.objid == 4)]\n",
    "#print(match0)  #this didnt fucking work. what this dumbass thing thinks i mean is find the index of t2pd and show me\n",
    "#that stupid fucking index (index zero btw) because that's where Translate.field == 'COSMOS', Translate.pointing == 7\n",
    "#and Translate.objid == 4. stupid fucking thing. Now i have to wonder if the first command even worked\n",
    "\n",
    "#criteria = t2pd.field.isin(['COSMOS'])\n",
    "#print(criteria) #this only works for one column though. if we want to match multiple columns...\n",
    "#multicrit = t2pd[Translate.field.isin(['COSMOS'])].reset_index() #same problem. it's searching by Translate's index\n",
    "#it's not matching the information in the columns. it's matching the information i commanded it to look for in Translate\n",
    "#to the same index number it has in Table2\n",
    "#print(multicrit)\n",
    "\n"
   ]
  },
  {
   "cell_type": "code",
   "execution_count": null,
   "metadata": {},
   "outputs": [],
   "source": [
    "#dates = pd.date_range('1/1/2000', periods=8) this is from the online example i found. i'm not building my dfs from\n",
    "#scratch tho, so i shouldnt need this. but we'll keep these lines in case i need to analyze their syntax and structure\n",
    "\n",
    "#df = pd.DataFrame(np.random.randn(8, 4), index=dates, columns=['A', 'B', 'C', 'D']) \n",
    "#again these lines are not crucial for this experiment, but they may prove useful later\n",
    "    \n",
    "#panel = pd.Panel({'one': df, 'two': df - df.mean()})\n",
    "#now if i want to build my own panels, i may want up to three: Table1, Translate, and Table2. That should allow me to\n",
    "#find corresponding information in each. Let's see if it will let us build three panels \n",
    "\n",
    "panel = pd.Panel({'one': t1pd, 'two': Translate, 'three': t2pd}) #that seems to have worked!\n",
    "panel \n",
    "#now the real test: if i pass it a column to analyze in Table1, will it find corresponding information in Table2?\n",
    "#if it does this simply by index, then I'm back to square one\n",
    "\n",
    "#s = df['A'] \n",
    "#s[dates[5]]\n",
    "#panel['two'] #these three lines are from the original example code i found online\n",
    "\n",
    "#s = t1pd['pointing']\n",
    "#t1pd['field'[0]] #it says that field is not defined and idk how the fuck that is true since\n",
    "#we've used it countless times. it also cant figure out what to index for this so i'm giving up\n",
    "#panel['two']\n",
    "\n",
    "#this looks possibly like what i want: we have an initial dataframe, and a second dataframe. a Panel lets us specify\n",
    "#the conditions i want in the first dataframe, and then report its corresponding information in a second\n",
    "#unfortunately, the Panel command is depricated in Python 3, and so i should look for a different solution using\n",
    "#MultiIndex. I've been trying to understand MultiIndexing, and I had just come to the conclusion that it isnt what i \n",
    "#need, but if it's the replacement to Panels, then I should spend some more time trying to understand it\n",
    "\n",
    "\n",
    "\n",
    "\n",
    "\n",
    "#Okay it seems like Panels is very old and busted and I should try to learn how to multi index\n",
    "#instead"
   ]
  },
  {
   "cell_type": "code",
   "execution_count": 27,
   "metadata": {},
   "outputs": [
    {
     "data": {
      "text/html": [
       "<i>Table length=3361</i>\n",
       "<table id=\"table112247590528\" class=\"table-striped table-bordered table-condensed\">\n",
       "<thead><tr><th>ID</th><th>Steves_ID</th><th>ra</th><th>dec</th><th>x</th><th>y</th></tr></thead>\n",
       "<thead><tr><th>int64</th><th>str12</th><th>float64</th><th>float64</th><th>float64</th><th>float64</th></tr></thead>\n",
       "<tr><td>20029</td><td>z4_GND_22332</td><td>189.179694</td><td>62.240789</td><td>11707.786</td><td>10374.013</td></tr>\n",
       "<tr><td>21567</td><td>z4_GND_19891</td><td>189.265962</td><td>62.247546</td><td>9297.237</td><td>10779.229</td></tr>\n",
       "<tr><td>24413</td><td>z4_GND_14785</td><td>189.164208</td><td>62.261807</td><td>12139.289</td><td>11635.503</td></tr>\n",
       "<tr><td>33402</td><td>z4_GND_41377</td><td>189.208982</td><td>62.311845</td><td>10888.025</td><td>14636.981</td></tr>\n",
       "<tr><td>3777</td><td>z4_GND_819</td><td>189.297333</td><td>62.154039</td><td>8414.783</td><td>5169.538</td></tr>\n",
       "<tr><td>9207</td><td>z4_GND_39165</td><td>189.184421</td><td>62.188214</td><td>11577.835</td><td>7219.417</td></tr>\n",
       "<tr><td>30073</td><td>z4_GND_44202</td><td>189.232273</td><td>62.290575</td><td>10238.617</td><td>13360.706</td></tr>\n",
       "<tr><td>25624</td><td>z4_GND_12864</td><td>189.134321</td><td>62.267528</td><td>12973.424</td><td>11979.763</td></tr>\n",
       "<tr><td>33383</td><td>z4_GND_41287</td><td>189.195998</td><td>62.312141</td><td>11249.994</td><td>14654.882</td></tr>\n",
       "<tr><td>15884</td><td>z4_GND_29320</td><td>189.152002</td><td>62.220837</td><td>12483.067</td><td>9177.656</td></tr>\n",
       "<tr><td>...</td><td>...</td><td>...</td><td>...</td><td>...</td><td>...</td></tr>\n",
       "<tr><td>5421926</td><td>z7_GND_21926</td><td>189.28296</td><td>62.242146</td><td>8822.043229371026</td><td>10455.577145050656</td></tr>\n",
       "<tr><td>5418770</td><td>z7_GND_18770</td><td>189.09734</td><td>62.250954</td><td>14007.96255207136</td><td>10987.138263309793</td></tr>\n",
       "<tr><td>5425328</td><td>z8_GND_25328</td><td>189.12772</td><td>62.232597</td><td>13160.98442197893</td><td>9884.197598505936</td></tr>\n",
       "<tr><td>5414500</td><td>z7_GNW_14500</td><td>188.92015</td><td>62.194962</td><td>18973.931008712294</td><td>7644.457208960332</td></tr>\n",
       "<tr><td>5413554</td><td>z8_GNW_13554</td><td>189.039</td><td>62.189419</td><td>15648.558068130427</td><td>7299.088869986672</td></tr>\n",
       "<tr><td>5420236</td><td>z8_GNW_20236</td><td>189.43352</td><td>62.322304</td><td>4629.996813156173</td><td>15273.465053121652</td></tr>\n",
       "<tr><td>5427475</td><td>z8_GNW_27475</td><td>189.37381</td><td>62.336391</td><td>6295.998978555362</td><td>16114.183192178098</td></tr>\n",
       "<tr><td>5418397</td><td>z8_GNW_18397</td><td>189.29536</td><td>62.369267</td><td>8483.397636251408</td><td>18083.17027555052</td></tr>\n",
       "<tr><td>5445101</td><td>z8_GND_45101</td><td>189.12109</td><td>62.277802</td><td>13341.80822125779</td><td>12596.792998195464</td></tr>\n",
       "<tr><td>5406106</td><td>z8_GNW_6106</td><td>189.20311</td><td>62.14394</td><td>11055.704646478553</td><td>4562.71674552403</td></tr>\n",
       "</table>"
      ],
      "text/plain": [
       "<Table length=3361>\n",
       "   ID    Steves_ID       ra        dec            x                  y         \n",
       " int64     str12      float64    float64       float64            float64      \n",
       "------- ------------ ---------- --------- ------------------ ------------------\n",
       "  20029 z4_GND_22332 189.179694 62.240789          11707.786          10374.013\n",
       "  21567 z4_GND_19891 189.265962 62.247546           9297.237          10779.229\n",
       "  24413 z4_GND_14785 189.164208 62.261807          12139.289          11635.503\n",
       "  33402 z4_GND_41377 189.208982 62.311845          10888.025          14636.981\n",
       "   3777   z4_GND_819 189.297333 62.154039           8414.783           5169.538\n",
       "   9207 z4_GND_39165 189.184421 62.188214          11577.835           7219.417\n",
       "  30073 z4_GND_44202 189.232273 62.290575          10238.617          13360.706\n",
       "  25624 z4_GND_12864 189.134321 62.267528          12973.424          11979.763\n",
       "  33383 z4_GND_41287 189.195998 62.312141          11249.994          14654.882\n",
       "  15884 z4_GND_29320 189.152002 62.220837          12483.067           9177.656\n",
       "    ...          ...        ...       ...                ...                ...\n",
       "5421926 z7_GND_21926  189.28296 62.242146  8822.043229371026 10455.577145050656\n",
       "5418770 z7_GND_18770  189.09734 62.250954  14007.96255207136 10987.138263309793\n",
       "5425328 z8_GND_25328  189.12772 62.232597  13160.98442197893  9884.197598505936\n",
       "5414500 z7_GNW_14500  188.92015 62.194962 18973.931008712294  7644.457208960332\n",
       "5413554 z8_GNW_13554    189.039 62.189419 15648.558068130427  7299.088869986672\n",
       "5420236 z8_GNW_20236  189.43352 62.322304  4629.996813156173 15273.465053121652\n",
       "5427475 z8_GNW_27475  189.37381 62.336391  6295.998978555362 16114.183192178098\n",
       "5418397 z8_GNW_18397  189.29536 62.369267  8483.397636251408  18083.17027555052\n",
       "5445101 z8_GND_45101  189.12109 62.277802  13341.80822125779 12596.792998195464\n",
       "5406106  z8_GNW_6106  189.20311  62.14394 11055.704646478553   4562.71674552403"
      ]
     },
     "execution_count": 27,
     "metadata": {},
     "output_type": "execute_result"
    }
   ],
   "source": [
    "GOODS_TRANSLATE = Table.read('GOODSN_plus_translation_all.txt', format='ascii')\n",
    "GOODS_TRANSLATE"
   ]
  },
  {
   "cell_type": "code",
   "execution_count": null,
   "metadata": {},
   "outputs": [],
   "source": [
    "CGS1_Lines = Table.read('GOODSN_plus_translation_all.txt', format='ascii')\n",
    "GOODS_TRANSLATE"
   ]
  },
  {
   "cell_type": "code",
   "execution_count": null,
   "metadata": {},
   "outputs": [],
   "source": []
  },
  {
   "cell_type": "code",
   "execution_count": null,
   "metadata": {},
   "outputs": [],
   "source": []
  },
  {
   "cell_type": "code",
   "execution_count": null,
   "metadata": {},
   "outputs": [],
   "source": []
  },
  {
   "cell_type": "code",
   "execution_count": null,
   "metadata": {},
   "outputs": [],
   "source": []
  },
  {
   "cell_type": "code",
   "execution_count": null,
   "metadata": {},
   "outputs": [],
   "source": []
  }
 ],
 "metadata": {
  "kernelspec": {
   "display_name": "Python 3",
   "language": "python",
   "name": "python3"
  },
  "language_info": {
   "codemirror_mode": {
    "name": "ipython",
    "version": 3
   },
   "file_extension": ".py",
   "mimetype": "text/x-python",
   "name": "python",
   "nbconvert_exporter": "python",
   "pygments_lexer": "ipython3",
   "version": "3.6.5"
  }
 },
 "nbformat": 4,
 "nbformat_minor": 2
}
